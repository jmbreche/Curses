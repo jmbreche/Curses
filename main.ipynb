{
 "cells": [
  {
   "cell_type": "code",
   "execution_count": 42,
   "outputs": [
    {
     "name": "stdout",
     "output_type": "stream",
     "text": [
      "['anus', 'arse', 'arsehole', 'ass', 'assbag', 'assbandit', 'assbanger', 'assbite', 'assclown', 'asscock', 'asscracker', 'asses', 'assface', 'assfuck', 'assfucker', 'assgoblin', 'asshat', 'asshead', 'asshole', 'asshopper', 'assjacker', 'asslick', 'asslicker', 'assmonkey', 'assmunch', 'assmuncher', 'assnigger', 'asspirate', 'assshit', 'assshole', 'asssucker', 'asswad', 'asswipe', 'axwound', 'bampot', 'bastard', 'beaner', 'beartrap', 'bitch', 'bitchass', 'bitches', 'bitchtits', 'bitchy', 'blowjob', 'bollocks', 'bollox', 'boner', 'brotherfucker', 'bullshit', 'bumblefuck', 'buttfucka', 'buttfucker', 'carpetmuncher', 'chesticle', 'chinc', 'chink', 'choad', 'chode', 'clit', 'clitface', 'clitfuck', 'clitweasel', 'clusterfuck', 'cock', 'cockass', 'cockbite', 'cockburger', 'cockface', 'cockfucker', 'cockhead', 'cockjockey', 'cockknoker', 'cockmaster', 'cockmongler', 'cockmongruel', 'cockmonkey', 'cockmuncher', 'cocknose', 'cocknugget', 'cockshit', 'cocksmith', 'cocksmoke', 'cocksmoker', 'cocksniffer', 'cocksucker', 'cockwaffle', 'coochie', 'coochy', 'coon', 'cooter', 'cracker', 'cum', 'cumbubble', 'cumdumpster', 'cumguzzler', 'cumjockey', 'cumslut', 'cumtart', 'cunnie', 'cunnilingus', 'cunt', 'cuntass', 'cuntface', 'cunthole', 'cuntlicker', 'cuntrag', 'cuntslut', 'dago', 'damn', 'deggo', 'dick', 'dickbag', 'dickbeaters', 'dickface', 'dickfuck', 'dickfucker', 'dickhead', 'dickhole', 'dickjuice', 'dickmilk', 'dickmonger', 'dicks', 'dickslap', 'dicksucker', 'dicksucking', 'dicktickler', 'dickwad', 'dickweasel', 'dickweed', 'dickwod', 'dike', 'dildo', 'dipshit', 'docking', 'doochbag', 'dookie', 'douche', 'douchebag', 'douchewaffle', 'dumass', 'dumbass', 'dumbfuck', 'dumbshit', 'dumshit', 'dyke', 'fag', 'fagbag', 'fagfucker', 'faggit', 'faggot', 'faggotcock', 'fagnut', 'fagtard', 'fatass', 'fellatio', 'feltch', 'flamer', 'fuck', 'fuckass', 'fuckbag', 'fuckboy', 'fuckbrain', 'fuckbutt', 'fuckbutter', 'fucked', 'fucker', 'fuckersucker', 'fuckface', 'fuckhead', 'fuckhole', 'fuckin', 'fucking', 'fucknose', 'fucknut', 'fucknutt', 'fuckoff', 'fucks', 'fuckstick', 'fucktard', 'fucktart', 'fuckup', 'fuckwad', 'fuckwit', 'fuckwitt', 'fudgepacker', 'gay', 'gayass', 'gaybob', 'gaydo', 'gayfuck', 'gayfuckist', 'gaylord', 'gaytard', 'gaywad', 'goddamn', 'goddamnit', 'gooch', 'gook', 'goopchute', 'gringo', 'guido', 'handjob', 'heeb', 'hell', 'ho', 'hoe', 'homo', 'homodumbshit', 'honkey', 'humping', 'jackass', 'jagoff', 'jap', 'jerkass', 'jigaboo', 'jizz', 'junglebunny', 'kike', 'kooch', 'kootch', 'kraut', 'kunt', 'kyke', 'lameass', 'lardass', 'lesbian', 'lesbo', 'lezzie', 'masturbate', 'mcfagget', 'mick', 'minge', 'mothafucka', 'mothafuckin', 'motherfucker', 'motherfucking', 'muff', 'muffdiver', 'munging', 'nazi', 'negro', 'nigaboo', 'nigga', 'nigger', 'niggerish', 'niggers', 'niglet', 'nignog', 'nutsack', 'paki', 'panooch', 'pecker', 'peckerhead', 'penis', 'penisbanger', 'penisfucker', 'penispuffer', 'piss', 'pissed', 'pissflaps', 'polesmoker', 'pollock', 'poon', 'poonani', 'poonany', 'poontang', 'porchmonkey', 'prick', 'punanny', 'punta', 'pussies', 'pussy', 'pussylicking', 'puto', 'queef', 'queer', 'queerbait', 'queerhole', 'renob', 'rimjob', 'ruski', 'sandnigger', 'schlong', 'scrote', 'shit', 'shitass', 'shitbag', 'shitbagger', 'shitbrains', 'shitbreath', 'shitcanned', 'shitcunt', 'shitdick', 'shitface', 'shitfaced', 'shithead', 'shithole', 'shithouse', 'shitspitter', 'shitstain', 'shitter', 'shittiest', 'shitting', 'shitty', 'shiz', 'shiznit', 'skank', 'skeet', 'skullfuck', 'slut', 'slutbag', 'smeg', 'snatch', 'spic', 'spick', 'splooge', 'spook', 'suckass', 'tard', 'testicle', 'thundercunt', 'tit', 'titfuck', 'tits', 'tittyfuck', 'twat', 'twatlips', 'twats', 'twatwaffle', 'twit', 'uglyfuck', 'unclefucker', 'vag', 'vagina', 'vajayjay', 'vjayjay', 'wank', 'wankjob', 'wetback', 'whore', 'whorebag', 'whoreface', 'wop']\n"
     ]
    }
   ],
   "source": [
    "import re\n",
    "import requests\n",
    "from bs4 import BeautifulSoup\n",
    "from string import ascii_lowercase as alphabet\n",
    "\n",
    "curses = []\n",
    "\n",
    "for letter in alphabet:\n",
    "    words = BeautifulSoup(\n",
    "        requests.get(\n",
    "            \"https://www.noswearing.com/dictionary/\" + letter\n",
    "        ).content,\n",
    "        \"html.parser\"\n",
    "    ).find_all(\"table\")[2].tr.td.find_all(\"b\")\n",
    "\n",
    "    for word in words:\n",
    "        word = word.contents[0].replace(\"\\\\'\", \"\")\n",
    "\n",
    "        if not re.search(\"[^A-z]\", word):\n",
    "            curses.append(word)\n",
    "\n",
    "print(curses)"
   ],
   "metadata": {
    "collapsed": false,
    "pycharm": {
     "name": "#%%\n"
    }
   }
  },
  {
   "cell_type": "code",
   "execution_count": 43,
   "outputs": [
    {
     "name": "stdout",
     "output_type": "stream",
     "text": [
      "['anus', 'arse', 'ass', 'axwound', 'bampot', 'bastard', 'beaner', 'beartrap', 'bitch', 'blowjob', 'bollocks', 'bollox', 'boner', 'brotherfucker', 'bullshit', 'bumblefuck', 'buttfucka', 'buttfucker', 'carpetmuncher', 'chesticle', 'chinc', 'chink', 'choad', 'chode', 'clit', 'clusterfuck', 'cock', 'coochie', 'coochy', 'coon', 'cooter', 'cracker', 'cum', 'cunnie', 'cunnilingus', 'cunt', 'dago', 'damn', 'deggo', 'dick', 'dike', 'dildo', 'dipshit', 'docking', 'doochbag', 'dookie', 'douche', 'dumass', 'dumbass', 'dumbfuck', 'dumbshit', 'dumshit', 'dyke', 'fag', 'fatass', 'fellatio', 'feltch', 'flamer', 'fuck', 'fudgepacker', 'gay', 'goddamn', 'gooch', 'gook', 'goopchute', 'gringo', 'guido', 'handjob', 'heeb', 'hell', 'ho', 'humping', 'jackass', 'jagoff', 'jap', 'jerkass', 'jigaboo', 'jizz', 'junglebunny', 'kike', 'kooch', 'kootch', 'kraut', 'kunt', 'kyke', 'lameass', 'lardass', 'lesbian', 'lesbo', 'lezzie', 'masturbate', 'mcfagget', 'mick', 'minge', 'mothafucka', 'mothafuckin', 'motherfucker', 'motherfucking', 'muff', 'munging', 'nazi', 'negro', 'nigaboo', 'nigga', 'nigger', 'niglet', 'nignog', 'nutsack', 'paki', 'panooch', 'pecker', 'penis', 'piss', 'polesmoker', 'pollock', 'poon', 'porchmonkey', 'prick', 'punanny', 'punta', 'pussies', 'pussy', 'puto', 'queef', 'queer', 'renob', 'rimjob', 'ruski', 'sandnigger', 'schlong', 'scrote', 'shit', 'shiz', 'skank', 'skeet', 'skullfuck', 'slut', 'smeg', 'snatch', 'spic', 'splooge', 'spook', 'suckass', 'tard', 'testicle', 'thundercunt', 'tit', 'twat', 'twit', 'uglyfuck', 'unclefucker', 'vag', 'vajayjay', 'vjayjay', 'wank', 'wetback', 'whore', 'wop']\n"
     ]
    }
   ],
   "source": [
    "import itertools\n",
    "\n",
    "for i, j in itertools.permutations(range(len(curses)), r=2):\n",
    "    if not curses[i] is None and not curses[j] is None:\n",
    "        if curses[i].startswith(curses[j]):\n",
    "            curses[i] = None\n",
    "        elif curses[j].startswith(curses[i]):\n",
    "            curses[j] = None\n",
    "\n",
    "curses = list(filter(None, curses))\n",
    "\n",
    "print(curses)"
   ],
   "metadata": {
    "collapsed": false,
    "pycharm": {
     "name": "#%%\n"
    }
   }
  },
  {
   "cell_type": "code",
   "execution_count": 44,
   "outputs": [
    {
     "name": "stdout",
     "output_type": "stream",
     "text": [
      "['ass', 'bitch', 'cock', 'cunt', 'damn', 'dick', 'fuck', 'piss', 'puss', 'shit']\n"
     ]
    }
   ],
   "source": [
    "import pandas as pd\n",
    "\n",
    "pd.DataFrame(curses).to_csv(\"curses_out.csv\")\n",
    "curses = list(pd.read_csv(\"curses_in.csv\", names=[\"curses\"])[\"curses\"])\n",
    "\n",
    "print(curses)\n"
   ],
   "metadata": {
    "collapsed": false,
    "pycharm": {
     "name": "#%%\n"
    }
   }
  },
  {
   "cell_type": "code",
   "execution_count": 80,
   "outputs": [
    {
     "name": "stdout",
     "output_type": "stream",
     "text": [
      "fuck 0.9779627323150635 other fucker plastic smile leave face cameron fidget chair u\n",
      "ass 0.837967574596405  white boy dreadlock jamaican knit beret lounge grass cloud pot smoke hovers michael continue big marle\n",
      "ass 0.8614437580108643 ent dread kat kat girl enter school slowly cake glass speak kat read hardy boy blaise kat book guy fish\n",
      "ass 0.9385673403739929 aise dorsey kat guess school board hemingway male asshole worthy time blaise fight pill box kat continu\n",
      "fuck 0.9987340569496155 hoid patrick discuss perky abuse stupid psychotic fuck patrick prestige job title benefit package pretty\n",
      "fuck 0.9086199402809143 lighted grin joey race liquor store joey continue fuckin\n",
      "bitch 0.7001819610595703 enters interrupt fun bianca turn scream menstrual bitch study kat bianca cross stereo turn volume bianca \n",
      "fuck 0.6608705520629883 turn michael grab alligator shirt twist joey good fuck heavily invest michael hey high good joey michael\n",
      "bitch 0.5442280173301697  bianca bogey lowenstein party normal busy listen bitch prozac walter bogey lowenstein kat earphone ready\n",
      "ass 0.8451628684997559 xit int bogey kitchen night patrick remove shot glass kat hand patrick kat fierce refusal kat joey ente\n",
      "damn 0.8479189872741699 ontinue jingle bell jingle belle wake damn sit slide shake rag doll patrick continue kat wak\n",
      "ass 0.5278872847557068 n girl patrick minute patrick takin int english class day kat student sit desk quiz patrick seat conspi\n",
      "dick 0.6715946793556213 awn kat arrive tree breathlessly kat leave spring dickhead cruise patrick sunshine tree patrick guess af\n",
      "damn 0.7009531855583191  forehead shot cover paint shoot gun kat continue damn patrick grab victorious tackle land laugh hard re\n",
      "piss 0.44741177558898926 less cameron console piss bianca patrick kat continue slow dance oblivious \n",
      "ass 0.9958865642547607 que descend joey punch wildly cowboy fourth grade asshole hotel night kat stair patrick chase patrick w\n",
      "bitch 0.9739342927932739 ay perky stare sister sit focus bianca perky real bitch bianc\n",
      "bitch 0.9939334988594055 a real bitch boyfriend horrible person turn kat bianca continu\n",
      "fuck 1.0000195503234863 l kat patrick yeah fuck fell blush patrick continue day girl\n"
     ]
    },
    {
     "name": "stderr",
     "output_type": "stream",
     "text": [
      "Warning : `load_model` does not return WordVectorModel or SupervisedModel any more, but a `FastText` object which is very similar.\n"
     ]
    }
   ],
   "source": [
    "import glob\n",
    "import fasttext\n",
    "\n",
    "model = fasttext.load_model(\"curse_model.ftz\")\n",
    "df = pd.DataFrame(columns=curses)\n",
    "coords = [0]\n",
    "\n",
    "for path in glob.iglob(\"scripts/*.txt\"):\n",
    "    with open(path, \"r\") as file:\n",
    "        script = file.read()\n",
    "\n",
    "        for match in re.finditer(\"|\".join(curses), script):\n",
    "            coords.append(match.start())\n",
    "            coords.append(match.string[match.start():match.end()])\n",
    "            coords.append(match.end())\n",
    "\n",
    "        coords.append(len(script))\n",
    "\n",
    "    for i in range(2, len(coords) - 1, 3):\n",
    "        start = max(int((coords[i - 1] + coords[i - 2]) / 2), coords[i - 1] - 50)\n",
    "        end = min(int((coords[i + 1] + coords[i + 2]) / 2), coords[i + 1] + 50)\n",
    "\n",
    "        label = model.predict(script[start:end])[0][0][2:-2]\n",
    "\n",
    "        if label == coords[i]:\n",
    "            print(label, model.predict(script[start:end])[1][0], script[start:end])\n",
    "\n",
    "    break\n"
   ],
   "metadata": {
    "collapsed": false,
    "pycharm": {
     "name": "#%%\n"
    }
   }
  }
 ],
 "metadata": {
  "kernelspec": {
   "display_name": "Python 3",
   "language": "python",
   "name": "python3"
  },
  "language_info": {
   "codemirror_mode": {
    "name": "ipython",
    "version": 2
   },
   "file_extension": ".py",
   "mimetype": "text/x-python",
   "name": "python",
   "nbconvert_exporter": "python",
   "pygments_lexer": "ipython2",
   "version": "2.7.6"
  }
 },
 "nbformat": 4,
 "nbformat_minor": 0
}